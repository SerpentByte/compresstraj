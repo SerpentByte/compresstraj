{
 "cells": [
  {
   "cell_type": "markdown",
   "id": "73ff6cc4-284a-4940-a775-bd5e1a40ef3b",
   "metadata": {},
   "source": [
    "# Tutorial and in-depth usage description for **compresstraj**"
   ]
  },
  {
   "cell_type": "markdown",
   "id": "af9279f4-b198-486f-9290-c6ef202eabbc",
   "metadata": {},
   "source": [
    "### the tutorial uses the data provided in the examples folder. All paths are with respect to this working directory"
   ]
  },
  {
   "cell_type": "markdown",
   "id": "92337d6e-c150-4490-a11e-5808ca090404",
   "metadata": {},
   "source": [
    "## protein only"
   ]
  },
  {
   "cell_type": "markdown",
   "id": "299285c2-96e0-436c-8de7-0f68a5ba422f",
   "metadata": {},
   "source": [
    "### compression"
   ]
  },
  {
   "cell_type": "markdown",
   "id": "bcc020b5-de5d-4f9c-87a1-cf2b5cc2d329",
   "metadata": {},
   "source": [
    "#### the directory `protein` contains a PDB file and an xtc file for Hen Egg White Lysozyme (HEWL). \n",
    "#### The system contains 1963 particles and the trajectory has 500 frames. \n",
    "#### Using a GPU is recommended, however not necessary. "
   ]
  },
  {
   "cell_type": "markdown",
   "id": "8607122b-c859-4360-8e10-f56cbb0cc430",
   "metadata": {},
   "source": [
    " "
   ]
  },
  {
   "cell_type": "code",
   "execution_count": 1,
   "id": "4091bf6b-0316-4242-bf3e-9f44ae7a3f4c",
   "metadata": {},
   "outputs": [
    {
     "name": "stdout",
     "output_type": "stream",
     "text": [
      "usage: compress.py [-h] -r REFFILE -t TRAJFILE -p PREFIX [-e EPOCHS] [-b BATCH] [-l LATENT] [-c COMPRESSION] [-sel SELECTION] [-gid GPUID]\n",
      "                   [-ckpt CKPT] [--layers LAYERS] [-o OUTDIR]\n",
      "\n",
      "Process input files and model files for compression.\n",
      "\n",
      "options:\n",
      "  -h, --help            show this help message and exit\n",
      "  -r, --reffile REFFILE\n",
      "                        Path to the reference file (pdb/gro)\n",
      "  -t, --trajfile TRAJFILE\n",
      "                        Path to the trajectory file (xtc/trr/dcd/xyz)\n",
      "  -p, --prefix PREFIX   prefix to to the files to be generated.\n",
      "  -e, --epochs EPOCHS   Number of epochs to train [default=200]\n",
      "  -b, --batch BATCH     batch size [default=128]\n",
      "  -l, --latent LATENT   Number of latent dims\n",
      "  -c, --compression COMPRESSION\n",
      "                        Extent of compression to achieve if latent dimension is not specified. [default = 20]\n",
      "  -sel, --selection SELECTION\n",
      "                        a list of selections. the training will treat each selection as a separated entity.\n",
      "  -gid, --gpuID GPUID   select GPU to use [default=0]\n",
      "  -ckpt, --ckpt CKPT    checkpoint from where to resume training\n",
      "  --layers, -layers LAYERS\n",
      "                        Comma-separated list of hidden layer sizes for the autoencoder, e.g., '4096,1024'\n",
      "  -o, --outdir OUTDIR   output directory\n"
     ]
    }
   ],
   "source": [
    "# to view all the options and documentation of the script\n",
    "!python ../scripts/compress.py -h"
   ]
  },
  {
   "cell_type": "markdown",
   "id": "59068648-11af-43d4-8b70-e1fc9a5fbfe1",
   "metadata": {},
   "source": [
    " "
   ]
  },
  {
   "cell_type": "markdown",
   "id": "995f924a-d327-4cd0-8745-df53fb9cea4e",
   "metadata": {},
   "source": [
    "### `-l` will override the latent space computed using the `-c` flag.\n",
    "### for example if number of particles is 200, and `-l 32` and `-c 10` both are passed, \n",
    "### the code will set the latent space dimensions to 32 (from the `-l` flag) and\n",
    "### not 20 (which would be case if only `-c` was passed `N/c = 200/10 = 20`)\n",
    "</br></br>\n",
    "### for a detailed description of the selection commands, please see the MDAnalysis [selection documentation](https://docs.mdanalysis.org/stable/documentation_pages/selections.html)."
   ]
  },
  {
   "cell_type": "markdown",
   "id": "ec8d247d-c94a-4853-a3f1-2288907a4531",
   "metadata": {},
   "source": [
    " "
   ]
  },
  {
   "cell_type": "markdown",
   "id": "f6462870-1d33-436e-b448-e136ba421b0c",
   "metadata": {},
   "source": [
    " "
   ]
  },
  {
   "cell_type": "code",
   "execution_count": 2,
   "id": "c8a3626e-bee7-4e87-abd8-bccd8044a223",
   "metadata": {},
   "outputs": [
    {
     "name": "stdout",
     "output_type": "stream",
     "text": [
      "Using device: cuda:0.\n",
      "saved COG in protein/test/hewl_cog.npy\n",
      "scaler saved at protein/test/hewl_scaler.pkl\n",
      "selected atom coordinates saved at protein/test/hewl_select.pdb\n",
      "GPU available: True (cuda), used: True\n",
      "TPU available: False, using: 0 TPU cores\n",
      "HPU available: False, using: 0 HPUs\n",
      "LOCAL_RANK: 0 - CUDA_VISIBLE_DEVICES: [0]\n",
      "\n",
      "  | Name    | Type             | Params | Mode \n",
      "-----------------------------------------------------\n",
      "0 | model   | DenseAutoEncoder | 57.3 M | train\n",
      "1 | loss_fn | RMSDLoss         | 0      | train\n",
      "-----------------------------------------------------\n",
      "57.3 M    Trainable params\n",
      "0         Non-trainable params\n",
      "57.3 M    Total params\n",
      "229.089   Total estimated model params size (MB)\n",
      "19        Modules in train mode\n",
      "0         Modules in eval mode\n",
      "Epoch 999: 100%|█| 2/2 [00:00<00:00, 24.65it/s, v_num=4, avg_training_loss=0.046`Trainer.fit` stopped: `max_epochs=1000` reached.\n",
      "Epoch 999: 100%|█| 2/2 [00:00<00:00,  2.09it/s, v_num=4, avg_training_loss=0.046\n",
      "Final model saved at protein/test/hewl_model.pt\n",
      "Losses saved at protein/test/hewl_losses.pkl\n",
      "saved compressed data at protein/test/hewl_compressed.pkl\n",
      "Saved selections to protein/test/hewl_config.json\n"
     ]
    }
   ],
   "source": [
    "# run the compression\n",
    "!python ../scripts/compress.py \\\n",
    "-r protein/hewl.pdb \\\n",
    "-t protein/hewl.xtc \\\n",
    "-p hewl \\\n",
    "-e 1000 \\\n",
    "-b 256 \\\n",
    "-c 20 \\\n",
    "-sel \"all\" \\\n",
    "-o protein/test "
   ]
  },
  {
   "cell_type": "markdown",
   "id": "7b7891b0-5f97-4f08-a3b6-dc270b2cf89e",
   "metadata": {},
   "source": [
    " "
   ]
  },
  {
   "cell_type": "markdown",
   "id": "312fbabb-5fc9-412b-b7dd-06cbcf2b41f2",
   "metadata": {},
   "source": [
    "### view the files generated"
   ]
  },
  {
   "cell_type": "code",
   "execution_count": 3,
   "id": "d994e7ad-18c9-4edd-9188-4f9ad8cb6d62",
   "metadata": {},
   "outputs": [
    {
     "name": "stdout",
     "output_type": "stream",
     "text": [
      "hewl_cog.npy\t       hewl_losses.pkl\thewl_select.pdb\n",
      "hewl_compressed.pkl    hewl_model.pt\trestart_hewl.ckpt\n",
      "hewl_config.json       hewl_rmsd.txt\trestart_hewl-v1.ckpt\n",
      "hewl_decompressed.xtc  hewl_scaler.pkl\trestart_hewl-v2.ckpt\n"
     ]
    }
   ],
   "source": [
    "!ls protein/test"
   ]
  },
  {
   "cell_type": "markdown",
   "id": "2f447261-b4bb-4600-a87c-9576b96a901d",
   "metadata": {},
   "source": [
    "### a new folder is created if the output path does not exist. the output files are saved to `protein/test` in this case (from the `-o` flag). They are listed below with short descriptions:\n",
    "\n",
    "`hewl_cog.npy`: the center of geometries from each frame.\n",
    "\n",
    "`hewl_config.json`: the configuration used to run the script.\n",
    "\n",
    "`hewl_model.pt`: the trained AE model.\n",
    "\n",
    "`hewl_select.pdb`: PDB of the select atoms.\n",
    "\n",
    "`hewl_compressed.pkl`: the compressed coordinates in pickle format.\n",
    "\n",
    "`hewl_losses.pkl`: training and validation losses recorded during training.\n",
    "\n",
    "`hewl_scaler.pkl`: the scaler object in pickle format.\n"
   ]
  },
  {
   "cell_type": "markdown",
   "id": "d8b6d116-dc66-4390-a935-da2b4365a7e3",
   "metadata": {},
   "source": [
    "### decompression"
   ]
  },
  {
   "cell_type": "code",
   "execution_count": 4,
   "id": "cd448c96-5be0-40a2-be2d-23336127130b",
   "metadata": {},
   "outputs": [
    {
     "name": "stdout",
     "output_type": "stream",
     "text": [
      "usage: decompress.py [-h] -m MODEL -s SCALER -r REFFILE [-t TRAJFILE] -c COMPRESSED -p PREFIX [-sel SELECTION] [-gid GPUID] [-o OUTDIR]\n",
      "                     [-cog COG]\n",
      "\n",
      "Process input parameters.\n",
      "\n",
      "options:\n",
      "  -h, --help            show this help message and exit\n",
      "  -m, --model MODEL     Path to the model file.\n",
      "  -s, --scaler SCALER   Path to the scaler file.\n",
      "  -r, --reffile REFFILE\n",
      "                        Path to the reference file.\n",
      "  -t, --trajfile TRAJFILE\n",
      "                        Path to the trajectory file 1 (xtc)\n",
      "  -c, --compressed COMPRESSED\n",
      "                        Path to the compressed file.\n",
      "  -p, --prefix PREFIX   output file prefix.\n",
      "  -sel, --selection SELECTION\n",
      "                        a list of selections. the training will treat each selection as a separated entity.\n",
      "  -gid, --gpuID GPUID   select GPU to use [default=0]\n",
      "  -o, --outdir OUTDIR   output directory\n",
      "  -cog, --cog COG       center of geometry.\n"
     ]
    }
   ],
   "source": [
    "# to view all the options and documentation of the script\n",
    "!python ../scripts/decompress.py -h"
   ]
  },
  {
   "cell_type": "code",
   "execution_count": 6,
   "id": "4d08b1a4-0377-40db-83a6-9d12e429e003",
   "metadata": {},
   "outputs": [
    {
     "name": "stdout",
     "output_type": "stream",
     "text": [
      "Using device: cuda:0.\n",
      "Decompressing.....\n",
      "decompressed trajectory saved to protein/test/hewl_decompressed.xtc.\n",
      "calculating RMSD between original and decompressed trajectory.\n",
      "Computing RMSD: 100%|███████████████████████| 500/500 [00:00<00:00, 3968.50it/s]\n",
      "RMSD values saved in protein/test/hewl_rmsd.txt\n",
      "RMSD = (0.03, 0.06) nm\n"
     ]
    }
   ],
   "source": [
    "# decompress\n",
    "!python ../scripts/decompress.py \\\n",
    "-m protein/test/hewl_model.pt \\\n",
    "-s protein/test/hewl_scaler.pkl \\\n",
    "-r protein/test/hewl_select.pdb \\\n",
    "-c protein/test/hewl_compressed.pkl \\\n",
    "-cog protein/test/hewl_cog.npy \\\n",
    "-p hewl -sel \"all\" -o protein/test \\\n",
    "-t protein/hewl.xtc # optional. \n",
    "                    # if provided will calculate the pairwise RMSD and report its range"
   ]
  },
  {
   "cell_type": "markdown",
   "id": "828f78f0-3ae0-46c8-a09e-02bbb9b26970",
   "metadata": {},
   "source": [
    "#### the decompressed trajectory is generated in `protein/test/hewl_decompressed.xtc`. The RMSD, if calculated, are stored at `protein/test/hewl_rmsd.txt`"
   ]
  }
 ],
 "metadata": {
  "kernelspec": {
   "display_name": "Python 3 (ipykernel)",
   "language": "python",
   "name": "python3"
  },
  "language_info": {
   "codemirror_mode": {
    "name": "ipython",
    "version": 3
   },
   "file_extension": ".py",
   "mimetype": "text/x-python",
   "name": "python",
   "nbconvert_exporter": "python",
   "pygments_lexer": "ipython3",
   "version": "3.13.0"
  }
 },
 "nbformat": 4,
 "nbformat_minor": 5
}
