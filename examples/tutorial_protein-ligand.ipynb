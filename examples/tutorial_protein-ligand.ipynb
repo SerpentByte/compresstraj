{
 "cells": [
  {
   "cell_type": "markdown",
   "id": "73ff6cc4-284a-4940-a775-bd5e1a40ef3b",
   "metadata": {},
   "source": [
    "# Tutorial and in-depth usage description for **compresstraj**"
   ]
  },
  {
   "cell_type": "markdown",
   "id": "af9279f4-b198-486f-9290-c6ef202eabbc",
   "metadata": {},
   "source": [
    "### the tutorial uses the data provided in the examples folder. All paths are with respect to this working directory"
   ]
  },
  {
   "cell_type": "markdown",
   "id": "92337d6e-c150-4490-a11e-5808ca090404",
   "metadata": {},
   "source": [
    "## protein and ligand "
   ]
  },
  {
   "cell_type": "markdown",
   "id": "299285c2-96e0-436c-8de7-0f68a5ba422f",
   "metadata": {},
   "source": [
    "### compression"
   ]
  },
  {
   "cell_type": "markdown",
   "id": "bcc020b5-de5d-4f9c-87a1-cf2b5cc2d329",
   "metadata": {},
   "source": [
    "#### the directory `protein_ligand` contains a PDB file and an xtc file for Cytochrome P450 and camphor. \n",
    "#### The system contains 6469 particles and the trajectory has 271 frames. \n",
    "#### Using a GPU is recommended, however not necessary. "
   ]
  },
  {
   "cell_type": "markdown",
   "id": "8607122b-c859-4360-8e10-f56cbb0cc430",
   "metadata": {},
   "source": [
    " "
   ]
  },
  {
   "cell_type": "code",
   "execution_count": 1,
   "id": "4091bf6b-0316-4242-bf3e-9f44ae7a3f4c",
   "metadata": {},
   "outputs": [
    {
     "name": "stdout",
     "output_type": "stream",
     "text": [
      "usage: compress.py [-h] -r REFFILE -t TRAJFILE -p PREFIX [-e EPOCHS] [-b BATCH] [-l LATENT] [-c COMPRESSION] [-sel SELECTION] [-gid GPUID]\n",
      "                   [-ckpt CKPT] [--layers LAYERS] [-o OUTDIR]\n",
      "\n",
      "Process input files and model files for compression.\n",
      "\n",
      "options:\n",
      "  -h, --help            show this help message and exit\n",
      "  -r, --reffile REFFILE\n",
      "                        Path to the reference file (pdb/gro)\n",
      "  -t, --trajfile TRAJFILE\n",
      "                        Path to the trajectory file (xtc/trr/dcd/xyz)\n",
      "  -p, --prefix PREFIX   prefix to to the files to be generated.\n",
      "  -e, --epochs EPOCHS   Number of epochs to train [default=200]\n",
      "  -b, --batch BATCH     batch size [default=128]\n",
      "  -l, --latent LATENT   Number of latent dims\n",
      "  -c, --compression COMPRESSION\n",
      "                        Extent of compression to achieve if latent dimension is not specified. [default = 20]\n",
      "  -sel, --selection SELECTION\n",
      "                        a list of selections. the training will treat each selection as a separated entity.\n",
      "  -gid, --gpuID GPUID   select GPU to use [default=0]\n",
      "  -ckpt, --ckpt CKPT    checkpoint from where to resume training\n",
      "  --layers, -layers LAYERS\n",
      "                        Comma-separated list of hidden layer sizes for the autoencoder, e.g., '4096,1024'\n",
      "  -o, --outdir OUTDIR   output directory\n"
     ]
    }
   ],
   "source": [
    "# to view all the options and documentation of the script\n",
    "!python ../scripts/compress.py -h"
   ]
  },
  {
   "cell_type": "markdown",
   "id": "59068648-11af-43d4-8b70-e1fc9a5fbfe1",
   "metadata": {},
   "source": [
    " "
   ]
  },
  {
   "cell_type": "markdown",
   "id": "995f924a-d327-4cd0-8745-df53fb9cea4e",
   "metadata": {},
   "source": [
    "### `-l` will override the latent space computed using the `-c` flag.\n",
    "### for example if number of particles is 200, and `-l 32` and `-c 10` both are passed, \n",
    "### the code will set the latent space dimensions to 32 (from the `-l` flag) and\n",
    "### not 20 (which would be case if only `-c` was passed `N/c = 200/10 = 20`)\n",
    "</br></br>\n",
    "### for a detailed description of the selection commands, please see the MDAnalysis [selection documentation](https://docs.mdanalysis.org/stable/documentation_pages/selections.html)."
   ]
  },
  {
   "cell_type": "markdown",
   "id": "ec8d247d-c94a-4853-a3f1-2288907a4531",
   "metadata": {},
   "source": [
    " "
   ]
  },
  {
   "cell_type": "markdown",
   "id": "f6462870-1d33-436e-b448-e136ba421b0c",
   "metadata": {},
   "source": [
    " "
   ]
  },
  {
   "cell_type": "code",
   "execution_count": 2,
   "id": "c8a3626e-bee7-4e87-abd8-bccd8044a223",
   "metadata": {},
   "outputs": [
    {
     "name": "stdout",
     "output_type": "stream",
     "text": [
      "Using device: cuda:0.\n",
      "saved COG in protein_ligand/test/prt_cog.npy\n",
      "scaler saved at protein_ligand/test/prt_scaler.pkl\n",
      "selected atom coordinates saved at protein_ligand/test/prt_select.pdb\n",
      "GPU available: True (cuda), used: True\n",
      "TPU available: False, using: 0 TPU cores\n",
      "HPU available: False, using: 0 HPUs\n",
      "LOCAL_RANK: 0 - CUDA_VISIBLE_DEVICES: [0]\n",
      "\n",
      "  | Name    | Type             | Params | Mode \n",
      "-----------------------------------------------------\n",
      "0 | model   | DenseAutoEncoder | 166 M  | train\n",
      "1 | loss_fn | RMSDLoss         | 0      | train\n",
      "-----------------------------------------------------\n",
      "166 M     Trainable params\n",
      "0         Non-trainable params\n",
      "166 M     Total params\n",
      "667.687   Total estimated model params size (MB)\n",
      "19        Modules in train mode\n",
      "0         Modules in eval mode\n",
      "Epoch 999: 100%|█| 2/2 [00:00<00:00,  9.52it/s, v_num=0, avg_training_loss=0.080`Trainer.fit` stopped: `max_epochs=1000` reached.\n",
      "Epoch 999: 100%|█| 2/2 [00:03<00:00,  0.60it/s, v_num=0, avg_training_loss=0.080\n",
      "Final model saved at protein_ligand/test/prt_model.pt\n",
      "Losses saved at protein_ligand/test/prt_losses.pkl\n",
      "saved compressed data at protein_ligand/test/prt_compressed.pkl\n",
      "Saved selections to protein_ligand/test/prt_config.json\n",
      "Using device: cuda:0.\n",
      "saved COG in protein_ligand/test/hem_cog.npy\n",
      "scaler saved at protein_ligand/test/hem_scaler.pkl\n",
      "selected atom coordinates saved at protein_ligand/test/hem_select.pdb\n",
      "GPU available: True (cuda), used: True\n",
      "TPU available: False, using: 0 TPU cores\n",
      "HPU available: False, using: 0 HPUs\n",
      "LOCAL_RANK: 0 - CUDA_VISIBLE_DEVICES: [0]\n",
      "\n",
      "  | Name    | Type             | Params | Mode \n",
      "-----------------------------------------------------\n",
      "0 | model   | DenseAutoEncoder | 10.2 M | train\n",
      "1 | loss_fn | RMSDLoss         | 0      | train\n",
      "-----------------------------------------------------\n",
      "10.2 M    Trainable params\n",
      "0         Non-trainable params\n",
      "10.2 M    Total params\n",
      "40.945    Total estimated model params size (MB)\n",
      "19        Modules in train mode\n",
      "0         Modules in eval mode\n",
      "Epoch 999: 100%|█| 2/2 [00:00<00:00, 43.10it/s, v_num=1, avg_training_loss=0.100`Trainer.fit` stopped: `max_epochs=1000` reached.\n",
      "Epoch 999: 100%|█| 2/2 [00:00<00:00,  9.97it/s, v_num=1, avg_training_loss=0.100\n",
      "Final model saved at protein_ligand/test/hem_model.pt\n",
      "Losses saved at protein_ligand/test/hem_losses.pkl\n",
      "saved compressed data at protein_ligand/test/hem_compressed.pkl\n",
      "Saved selections to protein_ligand/test/hem_config.json\n",
      "Using device: cuda:0.\n",
      "saved COG in protein_ligand/test/cam_cog.npy\n",
      "scaler saved at protein_ligand/test/cam_scaler.pkl\n",
      "selected atom coordinates saved at protein_ligand/test/cam_select.pdb\n",
      "GPU available: True (cuda), used: True\n",
      "TPU available: False, using: 0 TPU cores\n",
      "HPU available: False, using: 0 HPUs\n",
      "LOCAL_RANK: 0 - CUDA_VISIBLE_DEVICES: [0]\n",
      "\n",
      "  | Name    | Type             | Params | Mode \n",
      "-----------------------------------------------------\n",
      "0 | model   | DenseAutoEncoder | 9.1 M  | train\n",
      "1 | loss_fn | RMSDLoss         | 0      | train\n",
      "-----------------------------------------------------\n",
      "9.1 M     Trainable params\n",
      "0         Non-trainable params\n",
      "9.1 M     Total params\n",
      "36.373    Total estimated model params size (MB)\n",
      "19        Modules in train mode\n",
      "0         Modules in eval mode\n",
      "Epoch 999: 100%|█| 2/2 [00:00<00:00, 44.36it/s, v_num=2, avg_training_loss=0.342`Trainer.fit` stopped: `max_epochs=1000` reached.\n",
      "Epoch 999: 100%|█| 2/2 [00:00<00:00, 11.02it/s, v_num=2, avg_training_loss=0.342\n",
      "Final model saved at protein_ligand/test/cam_model.pt\n",
      "Losses saved at protein_ligand/test/cam_losses.pkl\n",
      "saved compressed data at protein_ligand/test/cam_compressed.pkl\n",
      "Saved selections to protein_ligand/test/cam_config.json\n"
     ]
    }
   ],
   "source": [
    "# run the compression\n",
    "# we will decompose the system into its components: \n",
    "## -protein\n",
    "!python ../scripts/compress.py \\\n",
    "-r protein_ligand/p450_cam.pdb \\\n",
    "-t protein_ligand/p450_cam.xtc \\\n",
    "-p prt \\\n",
    "-e 1000 \\\n",
    "-b 256 \\\n",
    "-c 20 \\\n",
    "-sel \"(not resname HEM) and (not resname CAM)\" \\\n",
    "-o protein_ligand/test \n",
    "\n",
    "## -HEME subunit\n",
    "!python ../scripts/compress.py \\\n",
    "-r protein_ligand/p450_cam.pdb \\\n",
    "-t protein_ligand/p450_cam.xtc \\\n",
    "-p hem \\\n",
    "-e 1000 \\\n",
    "-b 256 \\\n",
    "-c 20 \\\n",
    "-sel \"resname HEM\" \\\n",
    "-o protein_ligand/test \n",
    "\n",
    "## -ligand (camphor)\n",
    "!python ../scripts/compress.py \\\n",
    "-r protein_ligand/p450_cam.pdb \\\n",
    "-t protein_ligand/p450_cam.xtc \\\n",
    "-p cam \\\n",
    "-e 1000 \\\n",
    "-b 256 \\\n",
    "-c 20 \\\n",
    "-sel \"resname CAM\" \\\n",
    "-o protein_ligand/test "
   ]
  },
  {
   "cell_type": "markdown",
   "id": "7b7891b0-5f97-4f08-a3b6-dc270b2cf89e",
   "metadata": {},
   "source": [
    " "
   ]
  },
  {
   "cell_type": "markdown",
   "id": "312fbabb-5fc9-412b-b7dd-06cbcf2b41f2",
   "metadata": {},
   "source": [
    "### view the files generated"
   ]
  },
  {
   "cell_type": "code",
   "execution_count": 3,
   "id": "d994e7ad-18c9-4edd-9188-4f9ad8cb6d62",
   "metadata": {},
   "outputs": [
    {
     "name": "stdout",
     "output_type": "stream",
     "text": [
      "cam_cog.npy\t    cam_select.pdb\them_scaler.pkl\t    prt_model.pt\n",
      "cam_compressed.pkl  hem_cog.npy\t\them_select.pdb\t    prt_scaler.pkl\n",
      "cam_config.json     hem_compressed.pkl\tprt_cog.npy\t    prt_select.pdb\n",
      "cam_losses.pkl\t    hem_config.json\tprt_compressed.pkl  restart_cam.ckpt\n",
      "cam_model.pt\t    hem_losses.pkl\tprt_config.json     restart_hem.ckpt\n",
      "cam_scaler.pkl\t    hem_model.pt\tprt_losses.pkl\t    restart_prt.ckpt\n"
     ]
    }
   ],
   "source": [
    "!ls protein_ligand/test"
   ]
  },
  {
   "cell_type": "markdown",
   "id": "2f447261-b4bb-4600-a87c-9576b96a901d",
   "metadata": {},
   "source": [
    "### a new folder is created if the output path does not exist. the output files are saved to `protein/test` in this case (from the `-o` flag). They are listed below with short descriptions:\n",
    "here subunits are named: prt, hem and cam\n",
    "\n",
    "`<subunit>_cog.npy`: the center of geometries from each frame.\n",
    "\n",
    "`<subunit>_config.json`: the configuration used to run the script.\n",
    "\n",
    "`<subunit>_model.pt`: the trained AE model.\n",
    "\n",
    "`<subunit>_select.pdb`: PDB of the select atoms.\n",
    "\n",
    "`<subunit>_compressed.pkl`: the compressed coordinates in pickle format.\n",
    "\n",
    "`<subunit>_losses.pkl`: training and validation losses recorded during training.\n",
    "\n",
    "`<subunit>_scaler.pkl`: the scaler object in pickle format.\n"
   ]
  },
  {
   "cell_type": "markdown",
   "id": "d8b6d116-dc66-4390-a935-da2b4365a7e3",
   "metadata": {},
   "source": [
    "### decompression"
   ]
  },
  {
   "cell_type": "code",
   "execution_count": 4,
   "id": "cd448c96-5be0-40a2-be2d-23336127130b",
   "metadata": {},
   "outputs": [
    {
     "name": "stdout",
     "output_type": "stream",
     "text": [
      "usage: decompress.py [-h] -m MODEL -s SCALER -r REFFILE [-t TRAJFILE] -c COMPRESSED -p PREFIX [-sel SELECTION] [-gid GPUID] [-o OUTDIR]\n",
      "                     [-cog COG]\n",
      "\n",
      "Process input parameters.\n",
      "\n",
      "options:\n",
      "  -h, --help            show this help message and exit\n",
      "  -m, --model MODEL     Path to the model file.\n",
      "  -s, --scaler SCALER   Path to the scaler file.\n",
      "  -r, --reffile REFFILE\n",
      "                        Path to the reference file.\n",
      "  -t, --trajfile TRAJFILE\n",
      "                        Path to the trajectory file 1 (xtc)\n",
      "  -c, --compressed COMPRESSED\n",
      "                        Path to the compressed file.\n",
      "  -p, --prefix PREFIX   output file prefix.\n",
      "  -sel, --selection SELECTION\n",
      "                        a list of selections. the training will treat each selection as a separated entity.\n",
      "  -gid, --gpuID GPUID   select GPU to use [default=0]\n",
      "  -o, --outdir OUTDIR   output directory\n",
      "  -cog, --cog COG       center of geometry.\n"
     ]
    }
   ],
   "source": [
    "# to view all the options and documentation of the script\n",
    "!python ../scripts/decompress.py -h"
   ]
  },
  {
   "cell_type": "code",
   "execution_count": 5,
   "id": "4d08b1a4-0377-40db-83a6-9d12e429e003",
   "metadata": {},
   "outputs": [
    {
     "name": "stdout",
     "output_type": "stream",
     "text": [
      "Using device: cuda:0.\n",
      "Decompressing.....\n",
      "decompressed trajectory saved to protein_ligand/test/prt_decompressed.xtc.\n",
      "Using device: cuda:0.\n",
      "Decompressing.....\n",
      "decompressed trajectory saved to protein_ligand/test/hem_decompressed.xtc.\n",
      "Using device: cuda:0.\n",
      "Decompressing.....\n",
      "decompressed trajectory saved to protein_ligand/test/cam_decompressed.xtc.\n"
     ]
    }
   ],
   "source": [
    "# decompress\n",
    "## prt\n",
    "!python ../scripts/decompress.py \\\n",
    "-m protein_ligand/test/prt_model.pt \\\n",
    "-s protein_ligand/test/prt_scaler.pkl \\\n",
    "-r protein_ligand/test/prt_select.pdb \\\n",
    "-c protein_ligand/test/prt_compressed.pkl \\\n",
    "-cog protein_ligand/test/prt_cog.npy\\\n",
    "-p prt -sel \"(not resname HEM) and (not resname CAM)\"\\\n",
    "-o protein_ligand/test\n",
    "\n",
    "## heme subunit\n",
    "!python ../scripts/decompress.py \\\n",
    "-m protein_ligand/test/hem_model.pt \\\n",
    "-s protein_ligand/test/hem_scaler.pkl \\\n",
    "-r protein_ligand/test/hem_select.pdb \\\n",
    "-c protein_ligand/test/hem_compressed.pkl \\\n",
    "-cog protein_ligand/test/hem_cog.npy \\\n",
    "-p hem -sel \"resname HEM\" \\\n",
    "-o protein_ligand/test\n",
    "\n",
    "\n",
    "## ligand (camphor)\n",
    "!python ../scripts/decompress.py \\\n",
    "-m protein_ligand/test/cam_model.pt \\\n",
    "-s protein_ligand/test/cam_scaler.pkl \\\n",
    "-r protein_ligand/test/cam_select.pdb \\\n",
    "-c protein_ligand/test/cam_compressed.pkl \\\n",
    "-cog protein_ligand/test/cam_cog.npy \\\n",
    "-p cam \\\n",
    "-sel \"resname CAM\" \\\n",
    "-o protein_ligand/test"
   ]
  },
  {
   "cell_type": "markdown",
   "id": "5eb53980-42ee-41d7-9b66-ce9255f5dae4",
   "metadata": {},
   "source": [
    "### fragments of the original trajectory have now been decompressed. we need to recompose the system again. "
   ]
  },
  {
   "cell_type": "code",
   "execution_count": 6,
   "id": "edb02bf9-5405-422c-8d22-7617a0458ff4",
   "metadata": {},
   "outputs": [
    {
     "name": "stdout",
     "output_type": "stream",
     "text": [
      "usage: recompose.py [-h] -r REFFILE [-o OUTDIR] -c CONFIG [-t TRAJFILE] [-sel SELECTION]\n",
      "\n",
      "Recomposed fragmented decompressed trajectories.\n",
      "\n",
      "options:\n",
      "  -h, --help            show this help message and exit\n",
      "  -r, --reffile REFFILE\n",
      "                        Path to the reference file (pdb/gro)\n",
      "  -o, --outdir OUTDIR   output directory\n",
      "  -c, --config CONFIG   config JSON\n",
      "  -t, --trajfile TRAJFILE\n",
      "                        Path to the trajectory file 1 (xtc)\n",
      "  -sel, --selection SELECTION\n",
      "                        atom selections.\n"
     ]
    }
   ],
   "source": [
    "# recompose.py documentation\n",
    "!python ../scripts/recompose.py -h"
   ]
  },
  {
   "cell_type": "code",
   "execution_count": 7,
   "id": "28d1ecb8-0e01-4242-90eb-98767e56d3a5",
   "metadata": {},
   "outputs": [
    {
     "name": "stdout",
     "output_type": "stream",
     "text": [
      "100%|███████████████████████████████████████| 271/271 [00:00<00:00, 1974.65it/s]\n",
      "recomposed trajectory written to protein_ligand/test/p450_cam_decompressed.xtc\n",
      "the respective pdb has been written to protein_ligand/test/p450_cam_select.pdb\n",
      "calculating RMSD between original and decompressed trajectory.\n",
      "Computing RMSD: 100%|███████████████████████| 271/271 [00:00<00:00, 1565.92it/s]\n",
      "RMSD values saved in protein_ligand/test/p450_cam_rmsd.txt\n",
      "RMSD = (0.08, 0.14) nm\n"
     ]
    }
   ],
   "source": [
    "# use recompose.json and recompose.py to join the systems properly.\n",
    "# the order in which the systems are present in the actual PDB\n",
    "# needs to be preserved in recompose.json\n",
    "!python ../scripts/recompose.py \\\n",
    "-r protein_ligand/p450_cam.pdb \\\n",
    "-o protein_ligand/test \\\n",
    "-c protein_ligand/recompose-tutorial.json \\\n",
    "-sel \"all\" \\\n",
    "-t protein_ligand/p450_cam.xtc # optional"
   ]
  },
  {
   "cell_type": "markdown",
   "id": "89ab31b1-da54-452e-b61a-f73fb57c428c",
   "metadata": {},
   "source": [
    " "
   ]
  },
  {
   "cell_type": "markdown",
   "id": "828f78f0-3ae0-46c8-a09e-02bbb9b26970",
   "metadata": {},
   "source": [
    "#### the decompressed trajectory is generated in `protein_ligand/test/p450_cam_decompressed.xtc`.\n",
    "#### The RMSD, if calculated, are stored at `protein_ligand/test/p450_cam_rmsd.txt`"
   ]
  },
  {
   "cell_type": "code",
   "execution_count": null,
   "id": "651e0284-12ce-425f-8b70-41ab3a3d554b",
   "metadata": {},
   "outputs": [],
   "source": []
  }
 ],
 "metadata": {
  "kernelspec": {
   "display_name": "Python 3 (ipykernel)",
   "language": "python",
   "name": "python3"
  },
  "language_info": {
   "codemirror_mode": {
    "name": "ipython",
    "version": 3
   },
   "file_extension": ".py",
   "mimetype": "text/x-python",
   "name": "python",
   "nbconvert_exporter": "python",
   "pygments_lexer": "ipython3",
   "version": "3.13.0"
  }
 },
 "nbformat": 4,
 "nbformat_minor": 5
}
