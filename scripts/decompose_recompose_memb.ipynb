{
 "cells": [
  {
   "cell_type": "code",
   "execution_count": 1,
   "id": "167d130b-986e-4288-ab07-08423555523f",
   "metadata": {},
   "outputs": [
    {
     "name": "stderr",
     "output_type": "stream",
     "text": [
      "/home/wasim/miniconda3/lib/python3.11/site-packages/Bio/Application/__init__.py:39: BiopythonDeprecationWarning: The Bio.Application modules and modules relying on it have been deprecated.\n",
      "\n",
      "Due to the on going maintenance burden of keeping command line application\n",
      "wrappers up to date, we have decided to deprecate and eventually remove these\n",
      "modules.\n",
      "\n",
      "We instead now recommend building your command line and invoking it directly\n",
      "with the subprocess module.\n",
      "  warnings.warn(\n"
     ]
    }
   ],
   "source": [
    "import numpy as np\n",
    "import matplotlib.pyplot as plt\n",
    "from MDAnalysis import Universe, Writer\n",
    "from MDAnalysis.analysis import align\n",
    "import pickle\n",
    "from tqdm.auto import tqdm, trange"
   ]
  },
  {
   "cell_type": "code",
   "execution_count": null,
   "id": "681d50ec-088d-4691-bca3-95eb104d567f",
   "metadata": {},
   "outputs": [],
   "source": []
  },
  {
   "cell_type": "markdown",
   "id": "1b51ba63-e903-498c-ab80-ac6b033e51bc",
   "metadata": {},
   "source": [
    "# decomposition"
   ]
  },
  {
   "cell_type": "code",
   "execution_count": 2,
   "id": "1f62b67e-144a-4e5c-9092-6f0eda646344",
   "metadata": {},
   "outputs": [
    {
     "name": "stderr",
     "output_type": "stream",
     "text": [
      "/home/wasim/miniconda3/lib/python3.11/site-packages/MDAnalysis/coordinates/XDR.py:240: UserWarning: Reload offsets from trajectory\n",
      " ctime or size or n_atoms did not match\n",
      "  warnings.warn(\"Reload offsets from trajectory\\n \"\n"
     ]
    }
   ],
   "source": [
    "traj = Universe(\"data/dopc/dopc.pdb\", \"data/dopc/dopc.xtc\")\n",
    "ref = Universe(\"data/dopc/dopc.pdb\").select_atoms(\"all\")\n",
    "select = traj.select_atoms(\"all\")\n",
    "\n",
    "Nlipids = len(set(ref.resids))\n",
    "block_size = select.positions.shape[0]//Nlipids\n",
    "\n",
    "ref_pos = ref.select_atoms(\"resid 1\").positions"
   ]
  },
  {
   "cell_type": "code",
   "execution_count": null,
   "id": "d915f68f-0fd4-42fa-9248-4b66221c5592",
   "metadata": {},
   "outputs": [],
   "source": []
  },
  {
   "cell_type": "code",
   "execution_count": 3,
   "id": "a18e4238-7fb4-4a3d-8df8-5d8fd00008e2",
   "metadata": {},
   "outputs": [
    {
     "data": {
      "application/vnd.jupyter.widget-view+json": {
       "model_id": "074b49df581f4d838a14bba47ff57bba",
       "version_major": 2,
       "version_minor": 0
      },
      "text/plain": [
       "  0%|          | 0/3159 [00:00<?, ?it/s]"
      ]
     },
     "metadata": {},
     "output_type": "display_data"
    },
    {
     "data": {
      "application/vnd.jupyter.widget-view+json": {
       "model_id": "aafcd45d6050401784f2b54a3409a2f4",
       "version_major": 2,
       "version_minor": 0
      },
      "text/plain": [
       "  0%|          | 0/581256 [00:00<?, ?it/s]"
      ]
     },
     "metadata": {},
     "output_type": "display_data"
    }
   ],
   "source": [
    "# Select all lipids positions directly and convert to a NumPy array\n",
    "pos0 = np.array([traj.select_atoms(\"all\").positions for t in tqdm(traj.trajectory)])\n",
    "\n",
    "# Reshape the array to get decomposed positions\n",
    "pos_decomposed = pos0.reshape(-1, pos0.shape[1] // Nlipids, 3)\n",
    "\n",
    "# # Compute center of geometry (cog) more efficiently\n",
    "cog = pos_decomposed.mean(axis=1, keepdims=True)\n",
    "\n",
    "# # Vectorized computation of rotation matrices\n",
    "ref_cog = ref_pos.mean(axis=0)\n",
    "ref_aligned = ref_pos - ref_cog\n",
    "\n",
    "# # Vectorized broadcasting of cog subtraction\n",
    "pos_centered = pos_decomposed - cog\n",
    "\n",
    "# # Vectorized computation of rotation matrices using np.einsum\n",
    "R = np.array([align.rotation_matrix(pc, ref_aligned)[0] for pc in tqdm(pos_centered)])\n",
    "\n",
    "# # Apply the rotation matrices to the positions\n",
    "pos_processed = np.einsum('nij,nkj->nki', R, pos_centered)"
   ]
  },
  {
   "cell_type": "code",
   "execution_count": null,
   "id": "5cf5fdc8-6f06-4cb4-a5fe-d9d30ea727a6",
   "metadata": {},
   "outputs": [],
   "source": []
  },
  {
   "cell_type": "markdown",
   "id": "ed55b070-06bf-4781-a767-519e6a25bcab",
   "metadata": {},
   "source": [
    "with Writer(\"data/dopc/single.pdb\") as w:\n",
    "    _ = ref.select_atoms(\"resid 1\")\n",
    "    _.positions = ref_pos - ref_pos.mean(axis=0)\n",
    "    w.write(_)\n",
    "\n",
    "with Writer(\"data/dopc/single.xtc\") as w:\n",
    "    _ = ref.select_atoms(\"resid 1\")\n",
    "    for p in pos_processed:\n",
    "        _.positions = p\n",
    "        w.write(_)"
   ]
  },
  {
   "cell_type": "code",
   "execution_count": null,
   "id": "b9d4fe52-c283-447c-9e78-bb2b957fc3b8",
   "metadata": {},
   "outputs": [],
   "source": []
  },
  {
   "cell_type": "markdown",
   "id": "b1f6825a-3a78-4208-8c18-4353381cdd69",
   "metadata": {},
   "source": [
    "# reconstruct membrane"
   ]
  },
  {
   "cell_type": "code",
   "execution_count": 28,
   "id": "f5b87e4b-d885-4c9e-8308-508141228a43",
   "metadata": {},
   "outputs": [],
   "source": [
    "ref = Universe(\"data/dopc/dopc.pdb\").select_atoms(\"all\")\n",
    "\n",
    "select = ref.select_atoms(\"all\")\n",
    "\n",
    "Nlipids = len(set(select.resids))"
   ]
  },
  {
   "cell_type": "code",
   "execution_count": null,
   "id": "e8ec894e-747a-4388-a8d3-16d0ba658b20",
   "metadata": {},
   "outputs": [],
   "source": []
  },
  {
   "cell_type": "code",
   "execution_count": 28,
   "id": "c37571c4-d48a-4394-91bd-d634cfae2576",
   "metadata": {},
   "outputs": [],
   "source": [
    "pos_reverted = np.einsum('nij,nkj->nki', R.transpose(0, 2, 1), pos_processed) + cog"
   ]
  },
  {
   "cell_type": "code",
   "execution_count": null,
   "id": "1c11adec-5004-408a-ba8d-04c00a56a793",
   "metadata": {},
   "outputs": [],
   "source": []
  },
  {
   "cell_type": "code",
   "execution_count": null,
   "id": "b3c49b77-28d3-4668-b667-c1bf73aa97e0",
   "metadata": {},
   "outputs": [],
   "source": []
  }
 ],
 "metadata": {
  "kernelspec": {
   "display_name": "Python 3 (ipykernel)",
   "language": "python",
   "name": "python3"
  },
  "language_info": {
   "codemirror_mode": {
    "name": "ipython",
    "version": 3
   },
   "file_extension": ".py",
   "mimetype": "text/x-python",
   "name": "python",
   "nbconvert_exporter": "python",
   "pygments_lexer": "ipython3",
   "version": "3.11.8"
  }
 },
 "nbformat": 4,
 "nbformat_minor": 5
}
